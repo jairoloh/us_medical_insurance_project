{
 "cells": [
  {
   "cell_type": "markdown",
   "metadata": {},
   "source": [
    "# U.S. Medical Insurance Costs\n",
    "\n",
    "## Create data dictionary per patient and lists per column\n",
    "- We will create a general data dictionary per every patient and that will contain all a a patients details. Every individual dictionary will be added to a list of patients. This will make data manipulation easier.\n",
    "\n",
    "- Certain numbers will have to be turned into integers and floats.\n",
    "\n",
    "- At the same time, we will create individual lists per columns which we will use on further analysis exercises."
   ]
  },
  {
   "cell_type": "code",
   "execution_count": 168,
   "metadata": {},
   "outputs": [
    {
     "name": "stdout",
     "output_type": "stream",
     "text": [
      "Fields: ['age', 'sex', 'bmi', 'children', 'smoker', 'region', 'charges']\n"
     ]
    }
   ],
   "source": [
    "import csv\n",
    "\n",
    "age = []\n",
    "sex = []\n",
    "bmi = []\n",
    "children = []\n",
    "smoker = []\n",
    "region = []\n",
    "charges = []\n",
    "\n",
    "with open(\"insurance.csv\") as insurance_file:\n",
    "    patients_list = []\n",
    "    csv_dict = csv.DictReader(insurance_file)\n",
    "\n",
    "    print(\"Fields:\",csv_dict.fieldnames)\n",
    "    \n",
    "    for row in csv_dict:\n",
    "        row[\"age\"] = int(row[\"age\"])\n",
    "        row[\"children\"] = int(row[\"children\"])\n",
    "        row[\"bmi\"] = round(float(row[\"bmi\"]), 1)\n",
    "        row[\"charges\"] = round(float(row[\"charges\"]),2)\n",
    "        age.append(row[\"age\"])\n",
    "        sex.append(row[\"sex\"])\n",
    "        bmi.append(row[\"bmi\"])\n",
    "        children.append(row[\"children\"])\n",
    "        smoker.append(row[\"smoker\"])\n",
    "        region.append(row[\"region\"])\n",
    "        charges.append(row[\"charges\"])\n",
    "        patients_list.append(row)"
   ]
  },
  {
   "cell_type": "markdown",
   "metadata": {},
   "source": [
    "## Percentage of Patients per Regions\n",
    "As we can see in the dictionariy below, the number of patients is about the same per every region"
   ]
  },
  {
   "cell_type": "code",
   "execution_count": 19,
   "metadata": {},
   "outputs": [
    {
     "name": "stdout",
     "output_type": "stream",
     "text": [
      "{'southwest': 24.3, 'southeast': 27.2, 'northwest': 24.3, 'northeast': 24.2}\n"
     ]
    }
   ],
   "source": [
    "def data_percentage(data_list):\n",
    "    data_dict_perc = {}\n",
    "    for data in data_list:\n",
    "        if data not in data_dict_perc:\n",
    "            data_dict_perc[data] = round(data_list.count(data)/len(data_list)*100, 1)\n",
    "        else: pass\n",
    "    return data_dict_perc\n",
    "\n",
    "print(data_percentage(region))"
   ]
  },
  {
   "cell_type": "markdown",
   "metadata": {},
   "source": [
    "## Percentage of each BMI category by Region\n",
    "#### We know that our BMI catergories are:\n",
    "- Underweight <= 18.5\n",
    "- Normal weight = 18.5–24.9\n",
    "- Overweight = 25–29.9\n",
    "- Obesity > 29.9\n",
    "\n",
    "Obesity and overweight can bring several health issues to patients, which is why we will determine the percentage of people that are under the different BMI categories.\n",
    "\n",
    "This function will create a list of dictionaries containing the BMI's categories compared to any factor in our dictionary of patients."
   ]
  },
  {
   "cell_type": "code",
   "execution_count": 60,
   "metadata": {
    "scrolled": true
   },
   "outputs": [
    {
     "name": "stdout",
     "output_type": "stream",
     "text": [
      "[{'southwest': {'Underweight': 1.2, 'Normal': 15.1, 'Overweight': 30.5, 'Obesity': 53.2}}, {'southeast': {'Underweight': 0.0, 'Normal': 11.3, 'Overweight': 22.0, 'Obesity': 66.8}}, {'northwest': {'Underweight': 2.2, 'Normal': 19.4, 'Overweight': 32.9, 'Obesity': 45.5}}, {'northeast': {'Underweight': 3.1, 'Normal': 22.5, 'Overweight': 30.2, 'Obesity': 44.1}}]\n"
     ]
    }
   ],
   "source": [
    "def bmi_category_vs_anything(data, dict_key):\n",
    "    n_data = 0\n",
    "    n_under = 0\n",
    "    n_normal = 0\n",
    "    n_over = 0\n",
    "    n_obesity = 0\n",
    "    for patient in patients_list:\n",
    "        if patient[dict_key] == data:\n",
    "            n_data += 1\n",
    "            if patient[\"bmi\"] <= 18.5:\n",
    "                n_under += 1\n",
    "            if 25 >= patient[\"bmi\"] > 18.5:\n",
    "                n_normal += 1\n",
    "            if 29.9 >= patient[\"bmi\"] > 25:\n",
    "                n_over += 1\n",
    "            if patient[\"bmi\"] > 29.9:\n",
    "                n_obesity += 1\n",
    "                \n",
    "    percentage_under = round(n_under/n_data*100, 1)\n",
    "    pencentage_normal = round(n_normal/n_data*100, 1)\n",
    "    percentage_over = round(n_over/n_data*100, 1)\n",
    "    percentage_obesity = round(n_obesity/n_data*100, 1)\n",
    "    \n",
    "    data_bmi_dict = {data: {\"Underweight\": percentage_under, \"Normal\": pencentage_normal, \"Overweight\": percentage_over, \"Obesity\": percentage_obesity}}\n",
    "    return data_bmi_dict\n",
    "\n",
    "region_bmi_list = []\n",
    "region_bmi_list.append(bmi_category_vs_anything(\"southwest\", \"region\"))\n",
    "region_bmi_list.append(bmi_category_vs_anything(\"southeast\", \"region\"))\n",
    "region_bmi_list.append(bmi_category_vs_anything(\"northwest\", \"region\"))\n",
    "region_bmi_list.append(bmi_category_vs_anything(\"northeast\", \"region\"))\n",
    "\n",
    "print(region_bmi_list)"
   ]
  },
  {
   "cell_type": "markdown",
   "metadata": {},
   "source": [
    "We can conclude by our dictionary that there is a high Obesity BMI in patients, given that the lowest rate, on the Northeast region, is 44.1% and the highest, on the Southeast region, is 66.8%.\n",
    "\n",
    "Our \"Normal\" BMI is between 11.3% for the Southeast and 22.5% for the Northeast."
   ]
  },
  {
   "cell_type": "markdown",
   "metadata": {},
   "source": [
    "## Percentage of Male and Female Patients\n",
    "\n",
    "As we can see in the dictionary below, male and female patients are evenly distributed (50/50). In this case, we can reuse the function **data_percentage(data_list)**"
   ]
  },
  {
   "cell_type": "code",
   "execution_count": 22,
   "metadata": {},
   "outputs": [
    {
     "name": "stdout",
     "output_type": "stream",
     "text": [
      "{'female': 49.5, 'male': 50.5}\n"
     ]
    }
   ],
   "source": [
    "print(data_percentage(sex))"
   ]
  },
  {
   "cell_type": "markdown",
   "metadata": {},
   "source": [
    "## BMI Category vs Sex\n",
    "Now we will compare the different BMI categories for male and female patients. Here we can reuse our **bmi_category_vs_anything(data, dict_key)** function"
   ]
  },
  {
   "cell_type": "code",
   "execution_count": 17,
   "metadata": {},
   "outputs": [
    {
     "name": "stdout",
     "output_type": "stream",
     "text": [
      "[{'male': {'Underweight': 1.2, 'Normal': 16.0, 'Overweight': 27.7, 'Obesity': 55.2}}, {'female': {'Underweight': 2.0, 'Normal': 17.8, 'Overweight': 29.8, 'Obesity': 50.5}}]\n"
     ]
    }
   ],
   "source": [
    "sex_bmi_list = []\n",
    "sex_bmi_list.append(bmi_category_vs_anything(\"male\", \"sex\"))\n",
    "sex_bmi_list.append(bmi_category_vs_anything(\"female\", \"sex\"))\n",
    "\n",
    "print(sex_bmi_list)"
   ]
  },
  {
   "cell_type": "markdown",
   "metadata": {},
   "source": [
    "The dicitonary tells us that there are slightly more obese men than women, with 55.2% and 50.5% respectively."
   ]
  },
  {
   "cell_type": "markdown",
   "metadata": {},
   "source": [
    "# Percentage of Smokers\n",
    "\n",
    "We reuse the function **data_percentage(data_list)**.\n",
    "\n",
    "As we can see in the dictionary information, 20.5% of the patients are smoker and 79.5% are non smokers."
   ]
  },
  {
   "cell_type": "code",
   "execution_count": 54,
   "metadata": {},
   "outputs": [
    {
     "name": "stdout",
     "output_type": "stream",
     "text": [
      "{'smoker': 20.5, 'non-smoker': 79.5}\n"
     ]
    }
   ],
   "source": [
    "smoke_status_dict = data_percentage(smoker)\n",
    "smoke_status_dict[\"smoker\"] = smoke_status_dict.pop(\"yes\")\n",
    "smoke_status_dict[\"non-smoker\"] = smoke_status_dict.pop(\"no\")\n",
    "print(smoke_status_dict)"
   ]
  },
  {
   "cell_type": "markdown",
   "metadata": {},
   "source": [
    "# Average Insurance Cost by Smoking Status\n",
    "We assume that the smoking status of a patient is relevant to the charges they will have, condisering that smoking is extremely harmful to a patients health, which is why we will also analize the average insurance cost depending on smoking status. "
   ]
  },
  {
   "cell_type": "code",
   "execution_count": 106,
   "metadata": {},
   "outputs": [
    {
     "name": "stdout",
     "output_type": "stream",
     "text": [
      "[{'yes': 32050.23}, {'no': 8434.27}]\n",
      "On average, smokers pay 280.0% more compared to non-smokers\n"
     ]
    }
   ],
   "source": [
    "def cost_smoker_status(argument, header):\n",
    "    total = 0\n",
    "    n_patients = 0\n",
    "    for patient in patients_list:\n",
    "        if patient[header] == argument:\n",
    "            n_patients += 1\n",
    "            total += patient[\"charges\"]\n",
    "    cost_smoker_status_dict = {argument: round(total/n_patients,2)}\n",
    "    return cost_smoker_status_dict\n",
    "\n",
    "cost_smoker_status_list = []\n",
    "\n",
    "smokers = cost_smoker_status(\"yes\", \"smoker\")\n",
    "nonsmokers = cost_smoker_status(\"no\", \"smoker\")\n",
    "cost_smoker_status_list.append(smokers)\n",
    "cost_smoker_status_list.append(nonsmokers)\n",
    "cost_smoker = smokers[\"yes\"]\n",
    "cost_nonsmoker = nonsmokers[\"no\"]\n",
    "\n",
    "smoker_pay_more = round(((cost_smoker - cost_nonsmoker)/cost_nonsmoker)*100, 1)\n",
    "print(cost_smoker_status_list)\n",
    "\n",
    "print(\"On average, smokers pay {cost}% more compared to non-smokers\".format(cost = smoker_pay_more))"
   ]
  },
  {
   "cell_type": "markdown",
   "metadata": {},
   "source": [
    "# Average insurance cost in each BMI category\n"
   ]
  },
  {
   "cell_type": "code",
   "execution_count": 128,
   "metadata": {
    "scrolled": true
   },
   "outputs": [
    {
     "name": "stdout",
     "output_type": "stream",
     "text": [
      "On average, Obese patients pay 49.0% more than patients with Normal BMI's. But patients considerered Overweigth only pay 5.3% more than patients with Normal BMI's\n",
      "{'Underweight': 8657.62, 'Normal': 10435.44, 'Overweight': 10989.85, 'Obesity': 15552.34}\n"
     ]
    }
   ],
   "source": [
    "def bmi_category_avg_cost(header):\n",
    "    cost_under = 0\n",
    "    cost_normal = 0\n",
    "    cost_over = 0\n",
    "    cost_obesity = 0\n",
    "    n_under = 0\n",
    "    n_normal = 0\n",
    "    n_over = 0\n",
    "    n_obesity = 0\n",
    "    for patient in patients_list:\n",
    "        if patient[\"bmi\"] <= 18.5:\n",
    "            n_under += 1\n",
    "            cost_under += patient[header]\n",
    "        if 25 >= patient[\"bmi\"] > 18.5:\n",
    "            n_normal += 1\n",
    "            cost_normal += patient[header]\n",
    "        if 29.9 >= patient[\"bmi\"] > 25:\n",
    "            n_over += 1\n",
    "            cost_over += patient[header]\n",
    "        if patient[\"bmi\"] > 29.9:\n",
    "            n_obesity += 1\n",
    "            cost_obesity += patient[header]\n",
    "            \n",
    "    percentage_nor_vs_obe = round((((cost_obesity/n_obesity)-(cost_normal/n_normal))/(cost_normal/n_normal))*100, 1)\n",
    "    pencentage_nor_over = round((((cost_over/n_over)-(cost_normal/n_normal))/(cost_normal/n_normal))*100, 1)\n",
    "    print (\"On average, Obese patients pay {x}% more than patients with Normal BMI's. But patients considerered Overweigth only pay {y}% more than patients with Normal BMI's\".format(x = percentage_nor_vs_obe, y = pencentage_nor_over))\n",
    "    \n",
    "    bmi_category_cost = {\"Underweight\": round(cost_under/n_under, 2), \"Normal\": round(cost_normal/n_normal, 2), \"Overweight\": round(cost_over/n_over, 2), \"Obesity\": round(cost_obesity/n_obesity, 2)}\n",
    "    \n",
    "    return bmi_category_cost\n",
    "\n",
    "print(bmi_category_avg_cost(\"charges\"))"
   ]
  },
  {
   "cell_type": "markdown",
   "metadata": {},
   "source": [
    "## Average cost of smokers and non-smokers and also based on which BMI category they fall into"
   ]
  },
  {
   "cell_type": "code",
   "execution_count": 164,
   "metadata": {},
   "outputs": [
    {
     "name": "stdout",
     "output_type": "stream",
     "text": [
      "[{'smoker': {'Underweight': 18809.83, 'Normal': 19942.22, 'Overweight': 22495.87, 'Obesity': 41557.99}}, {'non-smoker': {'Underweight': 5485.06, 'Normal': 7734.65, 'Overweight': 8243.26, 'Obesity': 8842.69}}]\n",
      "On average, a patients smoking status influences the cost of their insurance a lot more than their BMI category. For example, a person who is obese and smokes pays $41557.99 on average and a non-smoker obese patient pays $8842.69. This means that smoking obese patients pay 370.0% more than non-smokers.\n"
     ]
    }
   ],
   "source": [
    "def bmi_smoker_cost(header, argument, status):\n",
    "    cost_under = 0\n",
    "    cost_normal = 0\n",
    "    cost_over = 0\n",
    "    cost_obesity = 0\n",
    "    n_under = 0\n",
    "    n_normal = 0\n",
    "    n_over = 0\n",
    "    n_obesity = 0\n",
    "    for patient in patients_list:\n",
    "        if patient[\"smoker\"] == argument:\n",
    "            if patient[\"bmi\"] <= 18.5:\n",
    "                n_under += 1\n",
    "                cost_under += patient[header]\n",
    "            if 25 >= patient[\"bmi\"] > 18.5:\n",
    "                n_normal += 1\n",
    "                cost_normal += patient[header]\n",
    "            if 29.9 >= patient[\"bmi\"] > 25:\n",
    "                n_over += 1\n",
    "                cost_over += patient[header]\n",
    "            if patient[\"bmi\"] > 29.9:\n",
    "                n_obesity += 1\n",
    "                cost_obesity += patient[header]\n",
    "              \n",
    "    bmi_smoker_cost_dict = {status: {\"Underweight\": round(cost_under/n_under, 2), \"Normal\": round(cost_normal/n_normal, 2), \"Overweight\": round(cost_over/n_over, 2), \"Obesity\": round(cost_obesity/n_obesity, 2)}}\n",
    "    \n",
    "    return bmi_smoker_cost_dict\n",
    "\n",
    "bmi_smoker_cost_list = []\n",
    "x = bmi_smoker_cost(\"charges\", \"yes\", \"smoker\")\n",
    "y = bmi_smoker_cost(\"charges\", \"no\", \"non-smoker\")\n",
    "bmi_smoker_cost_list.append(x)\n",
    "bmi_smoker_cost_list.append(y)\n",
    "print(bmi_smoker_cost_list)\n",
    "\n",
    "val1 = x[\"smoker\"][\"Obesity\"]\n",
    "val2 = y[\"non-smoker\"][\"Obesity\"]\n",
    "val3 = round(((val1 - val2)/ val2)*100, 1)\n",
    "\n",
    "print(\"On average, a patients smoking status influences the cost of their insurance a lot more than their BMI category. For example, a person who is obese and smokes pays ${val1} on average and a non-smoker obese patient pays ${val2}. This means that smoking obese patients pay {val3}% more than non-smokers.\".format(val1 = val1, val2 = val2, val3 = val3))"
   ]
  },
  {
   "cell_type": "markdown",
   "metadata": {},
   "source": [
    "According to the National Center for Biothechnology Information, estimates suggest that obesity accounts for 5 to 15% of deaths each year in the United States and smoking for 18% which is why the charges don't really seem to consider the risks accounted for obese patients more than they do for smokers and non-smokers."
   ]
  }
 ],
 "metadata": {
  "kernelspec": {
   "display_name": "Python 3",
   "language": "python",
   "name": "python3"
  },
  "language_info": {
   "codemirror_mode": {
    "name": "ipython",
    "version": 3
   },
   "file_extension": ".py",
   "mimetype": "text/x-python",
   "name": "python",
   "nbconvert_exporter": "python",
   "pygments_lexer": "ipython3",
   "version": "3.8.8"
  }
 },
 "nbformat": 4,
 "nbformat_minor": 4
}
